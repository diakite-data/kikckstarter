{
 "cells": [
  {
   "cell_type": "code",
   "execution_count": null,
   "metadata": {},
   "outputs": [],
   "source": []
  },
  {
   "cell_type": "code",
   "execution_count": 1,
   "metadata": {},
   "outputs": [],
   "source": [
    "from pyspark.sql import SparkSession\n",
    "from pyspark.sql import SQLContext\n",
    "\n",
    "\n",
    "spark = SparkSession.builder.appName('Spark_ML').getOrCreate()\n",
    "sc = spark.sparkContext\n",
    "sqlContext = SQLContext(sc)"
   ]
  },
  {
   "cell_type": "code",
   "execution_count": 2,
   "metadata": {},
   "outputs": [],
   "source": [
    "df = sqlContext.read.parquet('/home/youssouf/Documents/code/diakite-data/kikckstarter/data/kickstarter.parquet-20200305T090901Z-001/kickstarter.parquet')"
   ]
  },
  {
   "cell_type": "code",
   "execution_count": 3,
   "metadata": {},
   "outputs": [
    {
     "name": "stdout",
     "output_type": "stream",
     "text": [
      "root\n",
      " |-- project_id: string (nullable = true)\n",
      " |-- name: string (nullable = true)\n",
      " |-- desc: string (nullable = true)\n",
      " |-- goal: double (nullable = true)\n",
      " |-- keywords: string (nullable = true)\n",
      " |-- final_status: integer (nullable = true)\n",
      " |-- country_clean: string (nullable = true)\n",
      " |-- currency_clean: string (nullable = true)\n",
      " |-- deadline_clean: date (nullable = true)\n",
      " |-- created_at_clean: date (nullable = true)\n",
      " |-- launched_at_clean: date (nullable = true)\n",
      " |-- days_campaign: integer (nullable = true)\n",
      " |-- hours_prepa: double (nullable = true)\n",
      "\n"
     ]
    }
   ],
   "source": [
    "df.printSchema()"
   ]
  },
  {
   "cell_type": "code",
   "execution_count": 37,
   "metadata": {},
   "outputs": [
    {
     "data": {
      "text/html": [
       "<div>\n",
       "<style scoped>\n",
       "    .dataframe tbody tr th:only-of-type {\n",
       "        vertical-align: middle;\n",
       "    }\n",
       "\n",
       "    .dataframe tbody tr th {\n",
       "        vertical-align: top;\n",
       "    }\n",
       "\n",
       "    .dataframe thead th {\n",
       "        text-align: right;\n",
       "    }\n",
       "</style>\n",
       "<table border=\"1\" class=\"dataframe\">\n",
       "  <thead>\n",
       "    <tr style=\"text-align: right;\">\n",
       "      <th></th>\n",
       "      <th>project_id</th>\n",
       "      <th>name</th>\n",
       "      <th>desc</th>\n",
       "      <th>goal</th>\n",
       "      <th>keywords</th>\n",
       "      <th>final_status</th>\n",
       "      <th>country_clean</th>\n",
       "      <th>currency_clean</th>\n",
       "      <th>deadline_clean</th>\n",
       "      <th>created_at_clean</th>\n",
       "      <th>launched_at_clean</th>\n",
       "      <th>days_campaign</th>\n",
       "      <th>hours_prepa</th>\n",
       "    </tr>\n",
       "  </thead>\n",
       "  <tbody>\n",
       "    <tr>\n",
       "      <th>0</th>\n",
       "      <td>kkst2105441663</td>\n",
       "      <td>turn my paintings into prints!</td>\n",
       "      <td>i am looking to get prints made of my painting...</td>\n",
       "      <td>750.0</td>\n",
       "      <td>turn-my-paintings-into-prints</td>\n",
       "      <td>0</td>\n",
       "      <td>US</td>\n",
       "      <td>USD</td>\n",
       "      <td>2010-07-31</td>\n",
       "      <td>2010-06-14</td>\n",
       "      <td>2010-06-16</td>\n",
       "      <td>45</td>\n",
       "      <td>29.69</td>\n",
       "    </tr>\n",
       "    <tr>\n",
       "      <th>1</th>\n",
       "      <td>kkst1445351354</td>\n",
       "      <td>living with models</td>\n",
       "      <td>lauren won her own reality show! too bad this ...</td>\n",
       "      <td>2500.0</td>\n",
       "      <td>living-with-models</td>\n",
       "      <td>1</td>\n",
       "      <td>US</td>\n",
       "      <td>USD</td>\n",
       "      <td>2011-09-07</td>\n",
       "      <td>2011-08-06</td>\n",
       "      <td>2011-08-08</td>\n",
       "      <td>30</td>\n",
       "      <td>62.02</td>\n",
       "    </tr>\n",
       "    <tr>\n",
       "      <th>2</th>\n",
       "      <td>kkst1900926901</td>\n",
       "      <td>enchiridion</td>\n",
       "      <td>a priest is enlisted by federal marshals to as...</td>\n",
       "      <td>2500.0</td>\n",
       "      <td>enchiridion</td>\n",
       "      <td>0</td>\n",
       "      <td>US</td>\n",
       "      <td>USD</td>\n",
       "      <td>2011-09-29</td>\n",
       "      <td>2011-08-24</td>\n",
       "      <td>2011-08-30</td>\n",
       "      <td>30</td>\n",
       "      <td>143.80</td>\n",
       "    </tr>\n",
       "    <tr>\n",
       "      <th>3</th>\n",
       "      <td>kkst473899686</td>\n",
       "      <td>on paper and with strangers: part two (canceled)</td>\n",
       "      <td>a book comprised of photographs and writing. a...</td>\n",
       "      <td>1869.0</td>\n",
       "      <td>on-paper-and-with-strangers-part-two</td>\n",
       "      <td>0</td>\n",
       "      <td>US</td>\n",
       "      <td>USD</td>\n",
       "      <td>2011-05-01</td>\n",
       "      <td>2011-03-22</td>\n",
       "      <td>2011-03-22</td>\n",
       "      <td>40</td>\n",
       "      <td>1.99</td>\n",
       "    </tr>\n",
       "    <tr>\n",
       "      <th>4</th>\n",
       "      <td>kkst1247306035</td>\n",
       "      <td>my memphis blues</td>\n",
       "      <td>my memphis blues is a collection of poetry fro...</td>\n",
       "      <td>5000.0</td>\n",
       "      <td>my-memphis-blues</td>\n",
       "      <td>0</td>\n",
       "      <td>US</td>\n",
       "      <td>USD</td>\n",
       "      <td>2011-05-10</td>\n",
       "      <td>2011-02-02</td>\n",
       "      <td>2011-02-08</td>\n",
       "      <td>91</td>\n",
       "      <td>134.81</td>\n",
       "    </tr>\n",
       "  </tbody>\n",
       "</table>\n",
       "</div>"
      ],
      "text/plain": [
       "       project_id                                              name  \\\n",
       "0  kkst2105441663                    turn my paintings into prints!   \n",
       "1  kkst1445351354                                living with models   \n",
       "2  kkst1900926901                                       enchiridion   \n",
       "3   kkst473899686  on paper and with strangers: part two (canceled)   \n",
       "4  kkst1247306035                                  my memphis blues   \n",
       "\n",
       "                                                desc    goal  \\\n",
       "0  i am looking to get prints made of my painting...   750.0   \n",
       "1  lauren won her own reality show! too bad this ...  2500.0   \n",
       "2  a priest is enlisted by federal marshals to as...  2500.0   \n",
       "3  a book comprised of photographs and writing. a...  1869.0   \n",
       "4  my memphis blues is a collection of poetry fro...  5000.0   \n",
       "\n",
       "                               keywords  final_status country_clean  \\\n",
       "0         turn-my-paintings-into-prints             0            US   \n",
       "1                    living-with-models             1            US   \n",
       "2                           enchiridion             0            US   \n",
       "3  on-paper-and-with-strangers-part-two             0            US   \n",
       "4                      my-memphis-blues             0            US   \n",
       "\n",
       "  currency_clean deadline_clean created_at_clean launched_at_clean  \\\n",
       "0            USD     2010-07-31       2010-06-14        2010-06-16   \n",
       "1            USD     2011-09-07       2011-08-06        2011-08-08   \n",
       "2            USD     2011-09-29       2011-08-24        2011-08-30   \n",
       "3            USD     2011-05-01       2011-03-22        2011-03-22   \n",
       "4            USD     2011-05-10       2011-02-02        2011-02-08   \n",
       "\n",
       "   days_campaign  hours_prepa  \n",
       "0             45        29.69  \n",
       "1             30        62.02  \n",
       "2             30       143.80  \n",
       "3             40         1.99  \n",
       "4             91       134.81  "
      ]
     },
     "execution_count": 37,
     "metadata": {},
     "output_type": "execute_result"
    }
   ],
   "source": [
    "df.toPandas().head(5)"
   ]
  },
  {
   "cell_type": "code",
   "execution_count": 6,
   "metadata": {},
   "outputs": [],
   "source": [
    "df2 = df.select('goal', 'country_clean', 'currency_clean', 'days_campaign', 'hours_prepa', 'final_status')"
   ]
  },
  {
   "cell_type": "code",
   "execution_count": 7,
   "metadata": {},
   "outputs": [
    {
     "name": "stdout",
     "output_type": "stream",
     "text": [
      "+------+-------------+--------------+-------------+-----------+------------+\n",
      "|  goal|country_clean|currency_clean|days_campaign|hours_prepa|final_status|\n",
      "+------+-------------+--------------+-------------+-----------+------------+\n",
      "| 750.0|           US|           USD|           45|      29.69|           0|\n",
      "|2500.0|           US|           USD|           30|      62.02|           1|\n",
      "|2500.0|           US|           USD|           30|      143.8|           0|\n",
      "|1869.0|           US|           USD|           40|       1.99|           0|\n",
      "|5000.0|           US|           USD|           91|     134.81|           0|\n",
      "+------+-------------+--------------+-------------+-----------+------------+\n",
      "only showing top 5 rows\n",
      "\n"
     ]
    }
   ],
   "source": [
    "df2.show(5)"
   ]
  },
  {
   "cell_type": "markdown",
   "metadata": {},
   "source": [
    "### Dimensions of dataset "
   ]
  },
  {
   "cell_type": "code",
   "execution_count": 8,
   "metadata": {},
   "outputs": [
    {
     "data": {
      "text/plain": [
       "(107615, 6)"
      ]
     },
     "execution_count": 8,
     "metadata": {},
     "output_type": "execute_result"
    }
   ],
   "source": [
    "(df2.count() , len(df2.columns))"
   ]
  },
  {
   "cell_type": "markdown",
   "metadata": {},
   "source": [
    "### Missing Values Count"
   ]
  },
  {
   "cell_type": "code",
   "execution_count": 9,
   "metadata": {},
   "outputs": [
    {
     "name": "stdout",
     "output_type": "stream",
     "text": [
      "+----+-------------+--------------+-------------+-----------+------------+\n",
      "|goal|country_clean|currency_clean|days_campaign|hours_prepa|final_status|\n",
      "+----+-------------+--------------+-------------+-----------+------------+\n",
      "|   0|            0|             0|            0|          0|           0|\n",
      "+----+-------------+--------------+-------------+-----------+------------+\n",
      "\n"
     ]
    }
   ],
   "source": [
    "# import sql function pyspark\n",
    "import pyspark.sql.functions as f\n",
    "\n",
    "# null values in each column\n",
    "data_agg = df2.agg(*[f.count(f.when(f.isnull(c), c)).alias(c) for c in df2.columns])\n",
    "data_agg.show()"
   ]
  },
  {
   "cell_type": "code",
   "execution_count": 10,
   "metadata": {},
   "outputs": [
    {
     "name": "stdout",
     "output_type": "stream",
     "text": [
      "+------------+-----+\n",
      "|final_status|count|\n",
      "+------------+-----+\n",
      "|           1|34394|\n",
      "|           0|73221|\n",
      "+------------+-----+\n",
      "\n"
     ]
    }
   ],
   "source": [
    "### Value count for column final status\n",
    "\n",
    "df2.groupBy('final_status').count().show()"
   ]
  },
  {
   "cell_type": "code",
   "execution_count": 40,
   "metadata": {},
   "outputs": [
    {
     "name": "stdout",
     "output_type": "stream",
     "text": [
      "107615\n"
     ]
    },
    {
     "data": {
      "text/plain": [
       "<matplotlib.axes._subplots.AxesSubplot at 0x7ff8889b2208>"
      ]
     },
     "execution_count": 40,
     "metadata": {},
     "output_type": "execute_result"
    },
    {
     "data": {
      "image/png": "[encoded data removed]",
      "text/plain": [
       "<Figure size 576x576 with 1 Axes>"
      ]
     },
     "metadata": {
      "needs_background": "light"
     },
     "output_type": "display_data"
    }
   ],
   "source": [
    "# let's have a look at the distribution of our target variable:\n",
    "# to make it look better, we first convert our spark df to a Pandas\n",
    "\n",
    "\n",
    "import matplotlib.pyplot as plt\n",
    "import seaborn as sns\n",
    "%matplotlib inline\n",
    "df_pd = df2.toPandas()\n",
    "print(len(df_pd))\n",
    "plt.figure(figsize=(8,8))\n",
    "sns.countplot(x='final_status', data=df_pd, order=df_pd['final_status'].value_counts().index)"
   ]
  },
  {
   "cell_type": "markdown",
   "metadata": {},
   "source": [
    "Our dataset is very imbalanced. So to resolve this matter we are going to use some methode like **SMOTE** , etc.."
   ]
  },
  {
   "cell_type": "markdown",
   "metadata": {},
   "source": [
    "### Deal with imbalanced classes"
   ]
  },
  {
   "cell_type": "markdown",
   "metadata": {},
   "source": [
    "There are different methods to mitigate this problem. one way is to **under sample the majority class** or **over sample the minority class** to make a more balanced results. Another way is to assign weights for each class to penalize the majority class by assigning less weight and boost the minority class by assigning bigger weight. we are going to create a new column in the dataset named **weights** and assign the inverse ratio of each class as weights. here is how it’s done:"
   ]
  },
  {
   "cell_type": "code",
   "execution_count": 12,
   "metadata": {},
   "outputs": [],
   "source": [
    "# adding the new column weights and fill it with ratios\n",
    "from pyspark.sql.functions import when,col\n",
    "\n",
    "\n",
    "ratio = 0.91\n",
    "def weight_balance(final):\n",
    "    return when(final == 1, ratio).otherwise(1*(1-ratio))\n",
    "df3 = df2.withColumn('weights', weight_balance(col('final_status')))"
   ]
  },
  {
   "cell_type": "code",
   "execution_count": 13,
   "metadata": {},
   "outputs": [
    {
     "name": "stdout",
     "output_type": "stream",
     "text": [
      "+------+-------------+--------------+-------------+-----------+------------+-------------------+\n",
      "|  goal|country_clean|currency_clean|days_campaign|hours_prepa|final_status|            weights|\n",
      "+------+-------------+--------------+-------------+-----------+------------+-------------------+\n",
      "| 750.0|           US|           USD|           45|      29.69|           0|0.08999999999999997|\n",
      "|2500.0|           US|           USD|           30|      62.02|           1|               0.91|\n",
      "|2500.0|           US|           USD|           30|      143.8|           0|0.08999999999999997|\n",
      "|1869.0|           US|           USD|           40|       1.99|           0|0.08999999999999997|\n",
      "|5000.0|           US|           USD|           91|     134.81|           0|0.08999999999999997|\n",
      "+------+-------------+--------------+-------------+-----------+------------+-------------------+\n",
      "only showing top 5 rows\n",
      "\n"
     ]
    }
   ],
   "source": [
    "df3.show(5)"
   ]
  },
  {
   "cell_type": "markdown",
   "metadata": {},
   "source": [
    "### Feature Engineering"
   ]
  },
  {
   "cell_type": "markdown",
   "metadata": {},
   "source": [
    "The next step is Feature Engineering. pySpark has made it so easy that we do not need to do much for extracting features. here are the steps:\n",
    "\n",
    "*1-we apply StringIndexer() to assign indices to each category in our categorical columns.\n",
    "*2-we apply OneHotEncoderEstimator() to convert categorical columns to onehot encoded vectors.\n",
    "*3- we apply VectorAssembler() to create a feature vector from all categorical and numerical features and we call the final vector as \"features\"."
   ]
  },
  {
   "cell_type": "code",
   "execution_count": 19,
   "metadata": {},
   "outputs": [],
   "source": [
    "from pyspark.ml.feature import OneHotEncoderEstimator, StringIndexer, VectorAssembler\n",
    "\n",
    "# define stage 1: transform the column country_clean to numeric\n",
    "stage_1 = StringIndexer(inputCol= 'country_clean', outputCol= 'country_clean_index')\n",
    "# define stage 2: transform the column currency_clean to numeric\n",
    "stage_2 = StringIndexer(inputCol= 'currency_clean', outputCol= 'currency_clean_index')\n",
    "# define stage 3: one hot encode the numeric versions of country_clean and currency_clean generated from stage 1 and stage 2\n",
    "stage_3 = OneHotEncoderEstimator(inputCols=[stage_1.getOutputCol(), stage_2.getOutputCol()], \n",
    "                                 outputCols= ['country_clean_encoded', 'currency_clean_encoded'])\n",
    "# define stage 4: create a vector of all the features required to train the logistic regression model \n",
    "stage_4 = VectorAssembler(inputCols=['goal', 'country_clean_encoded', 'currency_clean_encoded', 'days_campaign', 'hours_prepa'],\n",
    "                          outputCol='features')\n"
   ]
  },
  {
   "cell_type": "code",
   "execution_count": 21,
   "metadata": {},
   "outputs": [],
   "source": [
    "from pyspark.ml import Pipeline\n",
    "#import pandas as pd\n",
    "\n",
    "stages = [stage_1,stage_2,stage_3,stage_4]\n",
    "\n",
    "cols = df3.columns\n",
    "\n",
    "pipeline = Pipeline(stages = stages)\n",
    "\n",
    "pipelineModel = pipeline.fit(df3)\n",
    "\n",
    "df4 = pipelineModel.transform(df3)\n",
    "\n",
    "selectedCols = ['features'] + cols\n",
    "\n",
    "df5 = df4.select(selectedCols)\n",
    "\n",
    "#pd.DataFrame(df5.take(5), columns = df5.columns)\n"
   ]
  },
  {
   "cell_type": "markdown",
   "metadata": {},
   "source": [
    "### Training and Hyper-parameter Tuning"
   ]
  },
  {
   "cell_type": "markdown",
   "metadata": {},
   "source": [
    "#### Logistic Regression"
   ]
  },
  {
   "cell_type": "code",
   "execution_count": 22,
   "metadata": {},
   "outputs": [
    {
     "name": "stdout",
     "output_type": "stream",
     "text": [
      "number of rows of train : 86091\n",
      "number of rows of test: 21524\n"
     ]
    }
   ],
   "source": [
    "# split the data into trainign and testin sets\n",
    "train, test = df5.randomSplit([0.80, 0.20], seed = 12345)\n",
    "print(\"number of rows of train :\",train.count())\n",
    "print(\"number of rows of test:\",test.count())\n",
    "\n",
    "\n",
    "# first we check how LogisticRegression perform \n",
    "from pyspark.ml.classification import LogisticRegression\n",
    "LR = LogisticRegression(featuresCol = 'features', labelCol = 'final_status', maxIter=15)\n",
    "LR_model = LR.fit(train)"
   ]
  },
  {
   "cell_type": "code",
   "execution_count": 36,
   "metadata": {},
   "outputs": [
    {
     "data": {
      "image/png": "[encoded data removed]",
      "text/plain": [
       "<Figure size 432x288 with 1 Axes>"
      ]
     },
     "metadata": {
      "needs_background": "light"
     },
     "output_type": "display_data"
    },
    {
     "name": "stdout",
     "output_type": "stream",
     "text": [
      "Training set ROC: 0.6189649060449569\n"
     ]
    }
   ],
   "source": [
    "#plotting the ROC Curve\n",
    "trainingSummary = LR_model.summary\n",
    "roc = trainingSummary.roc.toPandas()\n",
    "\n",
    "\n",
    "plt.plot(roc['FPR'],roc['TPR'])\n",
    "plt.ylabel('False Positive Rate')\n",
    "plt.xlabel('True Positive Rate')\n",
    "plt.title('ROC Curve')\n",
    "plt.show()\n",
    "print('Training set ROC: ' + str(trainingSummary.areaUnderROC))"
   ]
  },
  {
   "cell_type": "markdown",
   "metadata": {},
   "source": [
    "#### Model’s performance on the testing set"
   ]
  },
  {
   "cell_type": "code",
   "execution_count": 27,
   "metadata": {},
   "outputs": [
    {
     "name": "stdout",
     "output_type": "stream",
     "text": [
      "Test_SET (Area Under ROC): 0.6114710679650361\n"
     ]
    }
   ],
   "source": [
    "from pyspark.ml.evaluation import BinaryClassificationEvaluator\n",
    "\n",
    "\n",
    "predictions_LR = LR_model.transform(test)\n",
    "evaluator = BinaryClassificationEvaluator(rawPredictionCol='rawPrediction', labelCol='final_status')\n",
    "print(\"Test_SET (Area Under ROC): \" + str(evaluator.evaluate(predictions_LR, {evaluator.metricName: \"areaUnderROC\"})))"
   ]
  },
  {
   "cell_type": "markdown",
   "metadata": {},
   "source": [
    "####  Gradient Boosting Trees (GBT)"
   ]
  },
  {
   "cell_type": "code",
   "execution_count": 35,
   "metadata": {},
   "outputs": [
    {
     "name": "stdout",
     "output_type": "stream",
     "text": [
      "Test_SET (Area Under ROC): 0.6674468406989197\n"
     ]
    }
   ],
   "source": [
    "# next we checkout gradient boosting trees\n",
    "from pyspark.ml.classification import GBTClassifier\n",
    "import mlflow.spark\n",
    "import mlflow\n",
    "\n",
    "mlflow.set_tracking_uri('http://35.246.84.226')\n",
    "mlflow.set_experiment('kickstarter')\n",
    "\n",
    "gbt = GBTClassifier(featuresCol = 'features', labelCol = 'final_status',maxIter=15)\n",
    "\n",
    "with mlflow.start_run() as active_run :\n",
    "\n",
    "    GBT_Model = gbt.fit(train)\n",
    "\n",
    "    gbt_predictions = GBT_Model.transform(test)\n",
    "    train_predict = GBT_Model.transform(train)\n",
    "    \n",
    "    evaluator = BinaryClassificationEvaluator(rawPredictionCol='rawPrediction', labelCol='final_status')\n",
    "    \n",
    "    train_metric = evaluator.evaluate(train_predict, {evaluator.metricName: \"areaUnderROC\"})\n",
    "    test_metric = evaluator.evaluate(gbt_predictions, {evaluator.metricName: \"areaUnderROC\"})\n",
    "    \n",
    "    metrics = {'train_auc' : train_metric, 'test_auc' : test_metric}\n",
    "    mlflow.log_metrics(metrics)\n",
    "    \n",
    "    params = {'model_class' : 'gbt', \"max_iter\" : gbt.getMaxIter()}\n",
    "    mlflow.log_params(params)\n",
    "    \n",
    "    \n",
    "    #Log spark learn model\n",
    "    mlflow.spark.log_model(spark_model=GBT_Model,artifact_path=\"my_model\")\n",
    "    \n",
    "    print(\"Test_SET (Area Under ROC): \" + str(evaluator.evaluate(gbt_predictions, {evaluator.metricName: \"areaUnderROC\"})))"
   ]
  },
  {
   "cell_type": "code",
   "execution_count": 59,
   "metadata": {},
   "outputs": [],
   "source": [
    "from pyspark.ml.classification import  RandomForestClassifier\n",
    "\n",
    "rf = RandomForestClassifier(featuresCol = 'features', labelCol = 'final_status')\n",
    "# fit train data\n",
    "rfModel = rf.fit(train)\n",
    "\n",
    "\n",
    "with mlflow.start_run() as active_run :\n",
    "    \n",
    "    # Transform train and test data for predictions\n",
    "    rf_test_predict = rfModel.transform(test)\n",
    "    rf_train_predict = rfModel.transform(train)\n",
    "    \n",
    "    # set evaluator\n",
    "    evaluator = BinaryClassificationEvaluator(rawPredictionCol='rawPrediction', labelCol='final_status')\n",
    "\n",
    "    # metric value on train and test data \n",
    "    train_metric = evaluator.evaluate(rf_train_predict, {evaluator.metricName: \"areaUnderROC\"})\n",
    "    test_metric = evaluator.evaluate(rf_test_predict, {evaluator.metricName: \"areaUnderROC\"})\n",
    "    \n",
    "    # set up the set of metrics \n",
    "    metrics = {'train_auc' : train_metric, 'test_auc' : test_metric}\n",
    "    mlflow.log_metrics(metrics)\n",
    "    \n",
    "    # model param to see on mlflow\n",
    "    params = {'model_class' : 'RandomForest', \"depth\" : rf.getMaxDepth() }\n",
    "    mlflow.log_params(params)\n",
    "    \n",
    "    #Log spark learn model\n",
    "    mlflow.spark.log_model(spark_model= rfModel,artifact_path=\"my_RFmodel\")\n",
    "    \n",
    "    # Save model\n",
    "    mlflow.spark.save_model(rfModel, \"my_RFmodel\")"
   ]
  },
  {
   "cell_type": "code",
   "execution_count": 62,
   "metadata": {},
   "outputs": [
    {
     "name": "stderr",
     "output_type": "stream",
     "text": [
      "2020/03/05 21:22:28 INFO mlflow.spark: File 'my_RFmodel/sparkml' is already on DFS, copy is not necessary.\n"
     ]
    }
   ],
   "source": [
    "rfmodel=mlflow.spark.load_model(\"my_RFmodel\")"
   ]
  },
  {
   "cell_type": "code",
   "execution_count": 70,
   "metadata": {},
   "outputs": [
    {
     "data": {
      "text/html": [
       "<div>\n",
       "<style scoped>\n",
       "    .dataframe tbody tr th:only-of-type {\n",
       "        vertical-align: middle;\n",
       "    }\n",
       "\n",
       "    .dataframe tbody tr th {\n",
       "        vertical-align: top;\n",
       "    }\n",
       "\n",
       "    .dataframe thead th {\n",
       "        text-align: right;\n",
       "    }\n",
       "</style>\n",
       "<table border=\"1\" class=\"dataframe\">\n",
       "  <thead>\n",
       "    <tr style=\"text-align: right;\">\n",
       "      <th></th>\n",
       "      <th>features</th>\n",
       "      <th>goal</th>\n",
       "      <th>country_clean</th>\n",
       "      <th>currency_clean</th>\n",
       "      <th>days_campaign</th>\n",
       "      <th>hours_prepa</th>\n",
       "      <th>final_status</th>\n",
       "      <th>weights</th>\n",
       "      <th>rawPrediction</th>\n",
       "      <th>probability</th>\n",
       "      <th>prediction</th>\n",
       "    </tr>\n",
       "  </thead>\n",
       "  <tbody>\n",
       "    <tr>\n",
       "      <th>0</th>\n",
       "      <td>(750.0, 1.0, 0.0, 0.0, 0.0, 0.0, 0.0, 0.0, 0.0...</td>\n",
       "      <td>750.0</td>\n",
       "      <td>US</td>\n",
       "      <td>USD</td>\n",
       "      <td>45</td>\n",
       "      <td>29.69</td>\n",
       "      <td>0</td>\n",
       "      <td>0.09</td>\n",
       "      <td>[13.604325118182848, 6.3956748818171505]</td>\n",
       "      <td>[0.6802162559091424, 0.3197837440908575]</td>\n",
       "      <td>0.0</td>\n",
       "    </tr>\n",
       "    <tr>\n",
       "      <th>1</th>\n",
       "      <td>(2500.0, 1.0, 0.0, 0.0, 0.0, 0.0, 0.0, 0.0, 0....</td>\n",
       "      <td>2500.0</td>\n",
       "      <td>US</td>\n",
       "      <td>USD</td>\n",
       "      <td>30</td>\n",
       "      <td>62.02</td>\n",
       "      <td>1</td>\n",
       "      <td>0.91</td>\n",
       "      <td>[13.650406943165939, 6.3495930568340615]</td>\n",
       "      <td>[0.6825203471582969, 0.3174796528417031]</td>\n",
       "      <td>0.0</td>\n",
       "    </tr>\n",
       "    <tr>\n",
       "      <th>2</th>\n",
       "      <td>(2500.0, 1.0, 0.0, 0.0, 0.0, 0.0, 0.0, 0.0, 0....</td>\n",
       "      <td>2500.0</td>\n",
       "      <td>US</td>\n",
       "      <td>USD</td>\n",
       "      <td>30</td>\n",
       "      <td>143.80</td>\n",
       "      <td>0</td>\n",
       "      <td>0.09</td>\n",
       "      <td>[13.15215248526444, 6.847847514735559]</td>\n",
       "      <td>[0.657607624263222, 0.34239237573677794]</td>\n",
       "      <td>0.0</td>\n",
       "    </tr>\n",
       "    <tr>\n",
       "      <th>3</th>\n",
       "      <td>(1869.0, 1.0, 0.0, 0.0, 0.0, 0.0, 0.0, 0.0, 0....</td>\n",
       "      <td>1869.0</td>\n",
       "      <td>US</td>\n",
       "      <td>USD</td>\n",
       "      <td>40</td>\n",
       "      <td>1.99</td>\n",
       "      <td>0</td>\n",
       "      <td>0.09</td>\n",
       "      <td>[13.650406943165939, 6.3495930568340615]</td>\n",
       "      <td>[0.6825203471582969, 0.3174796528417031]</td>\n",
       "      <td>0.0</td>\n",
       "    </tr>\n",
       "    <tr>\n",
       "      <th>4</th>\n",
       "      <td>(5000.0, 1.0, 0.0, 0.0, 0.0, 0.0, 0.0, 0.0, 0....</td>\n",
       "      <td>5000.0</td>\n",
       "      <td>US</td>\n",
       "      <td>USD</td>\n",
       "      <td>91</td>\n",
       "      <td>134.81</td>\n",
       "      <td>0</td>\n",
       "      <td>0.09</td>\n",
       "      <td>[14.112603582211975, 5.887396417788025]</td>\n",
       "      <td>[0.7056301791105988, 0.2943698208894013]</td>\n",
       "      <td>0.0</td>\n",
       "    </tr>\n",
       "  </tbody>\n",
       "</table>\n",
       "</div>"
      ],
      "text/plain": [
       "                                            features    goal country_clean  \\\n",
       "0  (750.0, 1.0, 0.0, 0.0, 0.0, 0.0, 0.0, 0.0, 0.0...   750.0            US   \n",
       "1  (2500.0, 1.0, 0.0, 0.0, 0.0, 0.0, 0.0, 0.0, 0....  2500.0            US   \n",
       "2  (2500.0, 1.0, 0.0, 0.0, 0.0, 0.0, 0.0, 0.0, 0....  2500.0            US   \n",
       "3  (1869.0, 1.0, 0.0, 0.0, 0.0, 0.0, 0.0, 0.0, 0....  1869.0            US   \n",
       "4  (5000.0, 1.0, 0.0, 0.0, 0.0, 0.0, 0.0, 0.0, 0....  5000.0            US   \n",
       "\n",
       "  currency_clean  days_campaign  hours_prepa  final_status  weights  \\\n",
       "0            USD             45        29.69             0     0.09   \n",
       "1            USD             30        62.02             1     0.91   \n",
       "2            USD             30       143.80             0     0.09   \n",
       "3            USD             40         1.99             0     0.09   \n",
       "4            USD             91       134.81             0     0.09   \n",
       "\n",
       "                              rawPrediction  \\\n",
       "0  [13.604325118182848, 6.3956748818171505]   \n",
       "1  [13.650406943165939, 6.3495930568340615]   \n",
       "2    [13.15215248526444, 6.847847514735559]   \n",
       "3  [13.650406943165939, 6.3495930568340615]   \n",
       "4   [14.112603582211975, 5.887396417788025]   \n",
       "\n",
       "                                probability  prediction  \n",
       "0  [0.6802162559091424, 0.3197837440908575]         0.0  \n",
       "1  [0.6825203471582969, 0.3174796528417031]         0.0  \n",
       "2  [0.657607624263222, 0.34239237573677794]         0.0  \n",
       "3  [0.6825203471582969, 0.3174796528417031]         0.0  \n",
       "4  [0.7056301791105988, 0.2943698208894013]         0.0  "
      ]
     },
     "execution_count": 70,
     "metadata": {},
     "output_type": "execute_result"
    }
   ],
   "source": [
    "rfmodel.transform(df5).toPandas().head(5)"
   ]
  }
 ],
 "metadata": {
  "kernelspec": {
   "display_name": "Python 3",
   "language": "python",
   "name": "python3"
  },
  "language_info": {
   "codemirror_mode": {
    "name": "ipython",
    "version": 3
   },
   "file_extension": ".py",
   "mimetype": "text/x-python",
   "name": "python",
   "nbconvert_exporter": "python",
   "pygments_lexer": "ipython3",
   "version": "3.6.8"
  }
 },
 "nbformat": 4,
 "nbformat_minor": 2
}
